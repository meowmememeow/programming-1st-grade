{
 "cells": [
  {
   "cell_type": "code",
   "execution_count": 1,
   "id": "e89ec4c1",
   "metadata": {},
   "outputs": [
    {
     "name": "stdout",
     "output_type": "stream",
     "text": [
      "[1, 3, 3, 2, 1, 3]\n",
      "3\n",
      "910\n",
      "{'h': 23, 'i': 24, 'j': 25, 'k': 26, 'l': 27}\n",
      "[2, 8, -6, -12, 0, 66, 14]\n",
      "[2, 4, 0, 11, 2]\n",
      "[2, 4, 3, 4, 0, 11, 2]\n"
     ]
    }
   ],
   "source": [
    "l1 = ['1', '123', '123', '12', '1', '123']\n",
    "l2 = [2, 4, -2, -3, 0 , 11 , 3 -1]\n",
    "d4 = {1: 10, 2: 20, 3: 30, 4: 40, 5: 50, 6: 60}\n",
    "d5 = {'a': 3, 'b': 4, 'c': 5, 'd': 6, 'e': 7, 'f': 8, 'g': 9}\n",
    "d6 = {'e': 20, 'f': 21, 'g': 22, 'h': 23, 'i': 24, 'j': 25, 'k': 26, 'l': 27}\n",
    "\n",
    "#4.13)\n",
    "new_l1 = [len(x) for x in l1]\n",
    "print(new_l1)\n",
    "\n",
    "#4.14) \n",
    "count = sum(1 for x in l1 if len(x) > 2)\n",
    "print(count)\n",
    "\n",
    "#4.15) \n",
    "result = sum(k * v for k, v in d4.items())\n",
    "print(result)\n",
    "\n",
    "#4.16) \n",
    "d7 = {k: v for k, v in d6.items() if k not in d5}\n",
    "print(d7)\n",
    "\n",
    "#4.17)\n",
    "new_l2 = [(i + 1) * v if v is not None and i is not None else v for i, v in enumerate(l2)]\n",
    "print(new_l2)\n",
    "\n",
    "#4.18)\n",
    "new_l2 = [x for x in l2 if x >= 0]\n",
    "print(new_l2)\n",
    "\n",
    "#4.19)\n",
    "new_l2 = [i + 1 if x < 0 else x for i, x in enumerate(l2)]\n",
    "print(new_l2)"
   ]
  },
  {
   "cell_type": "code",
   "execution_count": 3,
   "id": "1cfcba74",
   "metadata": {},
   "outputs": [
    {
     "name": "stdout",
     "output_type": "stream",
     "text": [
      "Введите число: 3\n",
      "Введите число: 4\n",
      "3.0 умножить на 4.0 будет: 12.0\n"
     ]
    }
   ],
   "source": [
    "#5.1) Написать задокументированную функцию умножения двух чисел. \n",
    "def umn(a, b):\n",
    "    return a * b\n",
    "a = float(input(\"Введите число: \"))\n",
    "b = float(input(\"Введите число: \"))\n",
    "print(f'{a} умножить на {b} будет: {umn(a, b)}')\n"
   ]
  },
  {
   "cell_type": "code",
   "execution_count": 13,
   "id": "93c5ab18",
   "metadata": {},
   "outputs": [
    {
     "name": "stdout",
     "output_type": "stream",
     "text": [
      "56\n"
     ]
    }
   ],
   "source": [
    "#5.2) Написать функцию умножения принимающую от одного до трех параметров.\n",
    "#Написать примеры использования этой функции с разным количеством параметров.\n",
    "def multiply(*args):\n",
    "    result = 1\n",
    "    for num in args:\n",
    "        result *= num\n",
    "    return result\n",
    "print(multiply(2,4,7))"
   ]
  },
  {
   "cell_type": "code",
   "execution_count": 12,
   "id": "05640f7a",
   "metadata": {},
   "outputs": [
    {
     "name": "stdout",
     "output_type": "stream",
     "text": [
      "56\n"
     ]
    }
   ],
   "source": [
    "#5.3) Функцию из задания 2 вызвать с приведенными ниже аргументами. Для случая a4 выбрать 3 первых и 3 последних значения.\n",
    "#a1 = (15, 10 ,5)\n",
    "#a2 = (3, 1)\n",
    "#a3 = [2, 35, 55]\n",
    "#a4 = (5, 10 ,15, 20)\n",
    "def multiply(*args):\n",
    "    result = 1\n",
    "    for num in args:\n",
    "        result *= num\n",
    "    return result\n",
    "print(multiply(2,4,7))"
   ]
  },
  {
   "cell_type": "code",
   "execution_count": null,
   "id": "e5309ad4",
   "metadata": {},
   "outputs": [],
   "source": [
    "#5.4) Реализовать функцию умножения, принимающую неограниченное количество значений. \n",
    "#Написать примеры использования этой функции, в том числе с аргументами из задания 3.\n",
    "def multiply(*args):\n",
    "    result = 1\n",
    "    for num in args:\n",
    "        result *= num\n",
    "    return result\n",
    "print(multiply(2,4,7))"
   ]
  },
  {
   "cell_type": "code",
   "execution_count": 4,
   "id": "96d37f31",
   "metadata": {},
   "outputs": [
    {
     "name": "stdout",
     "output_type": "stream",
     "text": [
      "9\n"
     ]
    }
   ],
   "source": [
    "#5.5) Реализовать функции для выполнения четырех арифмитических операций преобразующих целые числа в целое число. Для двух заранее заданных целых чисел выполнить выбранную пользователем арифметическую операцию.\n",
    "def add(x, y):\n",
    "    return x + y\n",
    "\n",
    "def subtract(x, y):\n",
    "    return x - y\n",
    "\n",
    "def multiply(x, y):\n",
    "    return x * y\n",
    "\n",
    "def divide(x, y):\n",
    "    if y != 0:\n",
    "        return x / y\n",
    "    else:\n",
    "        return \"Деление на ноль невозможно, это вам не пределы\"\n",
    "print(add(6,3))"
   ]
  },
  {
   "cell_type": "code",
   "execution_count": 5,
   "id": "3357b284",
   "metadata": {},
   "outputs": [
    {
     "name": "stdout",
     "output_type": "stream",
     "text": [
      "Введите строковое выражение вида <число> <операция> <число>3 + 6\n",
      "9\n"
     ]
    }
   ],
   "source": [
    "#5.6) Написать калькулятор для строковых выражений вида '<число> <операция> <число>', где <число> - целое число, например 113, <арифмитическая операция> - одна из операций +,-,*,/(деление нацело),%(остаток от деления),^(возведение в степень). Пример calc('13 - 5') -> 8\n",
    "def calc(expression):\n",
    "    num1, op, num2=expression.split()\n",
    "    num1=int(num1)\n",
    "    num2=int(num2)\n",
    "    if op=='+':\n",
    "        return num1+num2\n",
    "    elif op=='-':\n",
    "        return num1-num2\n",
    "    elif op=='*':\n",
    "        return num1*num2\n",
    "    elif op=='/':\n",
    "        return num1//num2\n",
    "    elif op=='%':\n",
    "        return num1%num2  \n",
    "    elif op=='^':\n",
    "        return num1**num2  \n",
    "print(calc(input('Введите строковое выражение вида <число> <операция> <число>')))"
   ]
  },
  {
   "cell_type": "code",
   "execution_count": 7,
   "id": "8e17cf2d",
   "metadata": {},
   "outputs": [
    {
     "name": "stdout",
     "output_type": "stream",
     "text": [
      "Автомобиль марки: Audi, модели: A4, цвета: черный, 2006 года выпуска, с пробегом: 180000 км, c номерным знаком: X012АМ77, цена: 980000 руб.\n",
      "Автомобиль марки: Toyota, модели: RAV4, цвета: серебристый, 2015 года выпуска, с пробегом: 215000 км, c номерным знаком: X012АМ77, цена: 1200000 руб.\n"
     ]
    }
   ],
   "source": [
    "#5.7) Реализовать функцию которая выводит на экран сообщение вида:\n",
    "#'Автомобиль марки: BMW, модели: X5, цвета: белый, 2006 года выпуска, с пробегом: 215 000 км, c номерным знаком: X012АМ77, цена: 1 115 000 руб.'\n",
    "#В функцию передаются именованные параметры изменяемой части сообщения, лубой из параметров может быть не задан пользователем функции и автоматически заменен на разумное сообщение в соответствующей части строки. Получить вывод текстового сообщения для словарей c1, c2\n",
    "def print_car_info(brand='BMW', model='X5', color='белый', year=2006, mileage=215000, license_plate='X012АМ77', price=1115000):\n",
    "    print(f\"Автомобиль марки: {brand}, модели: {model}, цвета: {color}, {year} года выпуска, с пробегом: {mileage} км, c номерным знаком: {license_plate}, цена: {price} руб.\")\n",
    "    \n",
    "c1={'brand': 'Audi', 'model': 'A4', 'color': 'черный', 'mileage': 180000, 'price': 980000}\n",
    "c2={'brand': 'Toyota', 'model': 'RAV4', 'color': 'серебристый', 'year': 2015, 'price': 1200000}\n",
    "\n",
    "print_car_info(**c1)\n",
    "print_car_info(**c2)"
   ]
  },
  {
   "cell_type": "code",
   "execution_count": 8,
   "id": "86d40033",
   "metadata": {},
   "outputs": [
    {
     "name": "stdout",
     "output_type": "stream",
     "text": [
      "Пятнадцать\n"
     ]
    }
   ],
   "source": [
    "#5.8) Написать функцию, которая преобразует целое число (от 0 до 99) в текстовое написание числа на русском языке. Пример: to_text(15) -> 'Пятнадцать'\n",
    "def to_text(num):\n",
    "    numbers_map = {\n",
    "        0: 'Ноль', 1: 'Один', 2: 'Два', 3: 'Три', 4: 'Четыре', 5: 'Пять', 6: 'Шесть', 7: 'Семь', 8: 'Восемь', 9: 'Девять',\n",
    "        10: 'Десять', 11: 'Одиннадцать', 12: 'Двенадцать', 13: 'Тринадцать', 14: 'Четырнадцать', 15: 'Пятнадцать',\n",
    "        16: 'Шестнадцать', 17: 'Семнадцать', 18: 'Восемнадцать', 19: 'Девятнадцать', 20: 'Двадцать', 30: 'Тридцать',\n",
    "        40: 'Сорок', 50: 'Пятьдесят', 60: 'Шестьдесят', 70: 'Семьдесят', 80: 'Восемьдесят', 90: 'Девяносто'\n",
    "    }\n",
    "    \n",
    "    if num in numbers_map:\n",
    "        return numbers_map[num]\n",
    "    else:\n",
    "        tens = num // 10 * 10\n",
    "        ones = num % 10\n",
    "        return f\"{numbers_map[tens]} {numbers_map[ones].lower()}\"\n",
    "\n",
    "print(to_text(15)) "
   ]
  },
  {
   "cell_type": "code",
   "execution_count": 10,
   "id": "ce671b61",
   "metadata": {},
   "outputs": [
    {
     "name": "stdout",
     "output_type": "stream",
     "text": [
      "33\n"
     ]
    }
   ],
   "source": [
    "#5.9) Написать функцию, которая преобразует целое число (от 0 до 999) из текстового представления на руссокм языке в число типа int. Пример: to_int('тридцать три') -> 33\n",
    "def to_int(text):\n",
    "    numbers_map = {\n",
    "        'ноль': 0, 'один': 1, 'два': 2, 'три': 3, 'четыре': 4, 'пять': 5, 'шесть': 6, 'семь': 7, 'восемь': 8, 'девять': 9,\n",
    "        'десять': 10, 'одиннадцать': 11, 'двенадцать': 12, 'тринадцать': 13, 'четырнадцать': 14, 'пятнадцать': 15,\n",
    "        'шестнадцать': 16, 'семнадцать': 17, 'восемнадцать': 18, 'девятнадцать': 19, 'двадцать': 20, 'тридцать': 30,\n",
    "        'сорок': 40, 'пятьдесят': 50, 'шестьдесят': 60, 'семьдесят': 70, 'восемьдесят': 80, 'девяносто': 90\n",
    "    }\n",
    "    \n",
    "    parts = text.split()\n",
    "    number = 0\n",
    "    for part in parts:\n",
    "        if part in numbers_map:\n",
    "            number += numbers_map[part]\n",
    "    \n",
    "    return number\n",
    "\n",
    "print(to_int('тридцать три')) "
   ]
  },
  {
   "cell_type": "code",
   "execution_count": null,
   "id": "baab37ab",
   "metadata": {},
   "outputs": [],
   "source": [
    "#6.1) Написать калькулятор для строковых выражений вида '<число> <операция> <число>', где <число> - не отрицательное целое число меньшее 100, записанное словами, например \"тридцать четыре\", <арифмитическая операция> - одна из операций \"плюс\",\"минус\",\"умножить\". Результат выполнения операции вернуть в виде текстового представления числа. Пример calc('двадцать пять плюс тринадцать') -> \"тридцать восемь\"\n",
    "def calc(expression):\n",
    "    numbers_map = {\n",
    "        'ноль': 0, 'один': 1, 'два': 2, 'три': 3, 'четыре': 4, 'пять': 5, 'шесть': 6, 'семь': 7, 'восемь': 8, 'девять': 9,\n",
    "        'десять': 10, 'одиннадцать': 11, 'двенадцать': 12, 'тринадцать': 13, 'четырнадцать': 14, 'пятнадцать': 15,\n",
    "        'шестнадцать': 16, 'семнадцать': 17, 'восемнадцать': 18, 'девятнадцать': 19, 'двадцать': 20, 'тридцать': 30,\n",
    "        'сорок': 40, 'пятьдесят': 50, 'шестьдесят': 60, 'семьдесят': 70, 'восемьдесят': 80, 'девяносто': 90\n",
    "    }\n",
    "    \n",
    "    operations = {'плюс': '+', 'минус': '-', 'умножить': '*'}\n",
    "    parts = expression.split()\n",
    "    first_number = numbers_map[parts[0]]\n",
    "    operation = operations[parts[1]]\n",
    "    second_number = numbers_map[parts[2]]\n",
    "    result = eval(f\"{first_number} {operation} {second_number}\")\n",
    "    \n",
    "    for key, value in numbers_map.items():\n",
    "        if value == result:\n",
    "            return key.capitalize()\n",
    "\n",
    "print(calc('двадцать пять плюс тринадцать'))"
   ]
  }
 ],
 "metadata": {
  "kernelspec": {
   "display_name": "Python 3 (ipykernel)",
   "language": "python",
   "name": "python3"
  },
  "language_info": {
   "codemirror_mode": {
    "name": "ipython",
    "version": 3
   },
   "file_extension": ".py",
   "mimetype": "text/x-python",
   "name": "python",
   "nbconvert_exporter": "python",
   "pygments_lexer": "ipython3",
   "version": "3.11.4"
  }
 },
 "nbformat": 4,
 "nbformat_minor": 5
}
