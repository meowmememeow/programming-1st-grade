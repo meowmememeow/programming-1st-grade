{
 "cells": [
  {
   "cell_type": "code",
   "execution_count": 4,
   "id": "91c56faf-a6c9-476a-9465-59dd65db6952",
   "metadata": {},
   "outputs": [
    {
     "name": "stdout",
     "output_type": "stream",
     "text": [
      "[1, 3, 3, 2, 1, 3]\n"
     ]
    }
   ],
   "source": [
    "# Задание 1\n",
    "l1 = ['1', '123', '123', '12', '1', '123']\n",
    "\n",
    "print([len(i) for i in l1])"
   ]
  },
  {
   "cell_type": "code",
   "execution_count": 3,
   "id": "cc775c2d-874a-4b7c-81b6-6762b178595a",
   "metadata": {},
   "outputs": [
    {
     "name": "stdout",
     "output_type": "stream",
     "text": [
      "3\n"
     ]
    }
   ],
   "source": [
    "# Задание 2\n",
    "l1 = ['1', '123', '123', '12', '1', '123']\n",
    "\n",
    "print(len([len(i) for i in l1 if len(i) > 2]))"
   ]
  },
  {
   "cell_type": "code",
   "execution_count": 6,
   "id": "bc72a5d7-5ac5-4d1c-8c09-bff6657a14cd",
   "metadata": {},
   "outputs": [
    {
     "name": "stdout",
     "output_type": "stream",
     "text": [
      "[0, 4, -4, -9, 0, 55, 18, -7]\n"
     ]
    }
   ],
   "source": [
    "# Задание 3\n",
    "l2 = [2, 4, -2, -3, 0 , 11 , 3, -1]\n",
    "\n",
    "print([el*i for i, el in enumerate(l2)])"
   ]
  },
  {
   "cell_type": "code",
   "execution_count": 7,
   "id": "fb4d58ef-ffd5-4093-8e8c-76e3de65118d",
   "metadata": {},
   "outputs": [
    {
     "name": "stdout",
     "output_type": "stream",
     "text": [
      "[2, 4, 0, 11, 3]\n"
     ]
    }
   ],
   "source": [
    "# Задание 4\n",
    "l2 = [2, 4, -2, -3, 0 , 11 , 3, -1]\n",
    "\n",
    "print([i for i in l2 if i >= 0])"
   ]
  },
  {
   "cell_type": "code",
   "execution_count": 11,
   "id": "2e803835-7433-4cf7-a133-2fcf6f4d2bf4",
   "metadata": {},
   "outputs": [
    {
     "name": "stdout",
     "output_type": "stream",
     "text": [
      "[2, 4, 2, 3, 0, 11, 3, 7]\n"
     ]
    }
   ],
   "source": [
    "# Задание 5\n",
    "l2 = [2, 4, -2, -3, 0 , 11 , 3, -1]\n",
    "\n",
    "print([el if el >= 0 else i for i, el in enumerate(l2)])"
   ]
  },
  {
   "cell_type": "code",
   "execution_count": 15,
   "id": "6c7f1845-3102-49a2-9fe0-5007c25c4bd5",
   "metadata": {},
   "outputs": [
    {
     "name": "stdout",
     "output_type": "stream",
     "text": [
      " abcd\n"
     ]
    },
    {
     "name": "stdout",
     "output_type": "stream",
     "text": [
      "{'a': 1, 'b': 2, 'c': 3, 'd': 4}\n"
     ]
    }
   ],
   "source": [
    "# Задание 6\n",
    "s = input()\n",
    "\n",
    "print({el: i+1 for i, el in enumerate(s)})"
   ]
  },
  {
   "cell_type": "code",
   "execution_count": 22,
   "id": "36cc2c2c-3e46-4cb2-a8e8-a9a151683f76",
   "metadata": {},
   "outputs": [
    {
     "name": "stdout",
     "output_type": "stream",
     "text": [
      "3\n"
     ]
    }
   ],
   "source": [
    "# Задание 7\n",
    "l1 = ['1', '123', '123', '12', '1', '123']\n",
    "d1 = {\"1\": 0, \"123\": 0, \"12\": 0}\n",
    "\n",
    "print(len([i for i in d1.keys() if i in l1]))"
   ]
  },
  {
   "cell_type": "code",
   "execution_count": 23,
   "id": "8576912d-0d34-4f7d-b951-a25f15e3ffe4",
   "metadata": {},
   "outputs": [
    {
     "name": "stdout",
     "output_type": "stream",
     "text": [
      "{'e': 3, 'v': 1, 'g': 1, 'n': 1, '_': 1, 'o': 1}\n"
     ]
    }
   ],
   "source": [
    "# Задание 8\n",
    "s = \"evgene_o\"\n",
    "\n",
    "print({el: s.count(el) for el in s})"
   ]
  },
  {
   "cell_type": "code",
   "execution_count": 25,
   "id": "f278e64f-b5a9-4a0a-a24e-435de6097197",
   "metadata": {},
   "outputs": [
    {
     "name": "stdout",
     "output_type": "stream",
     "text": [
      "5\n"
     ]
    }
   ],
   "source": [
    "# Задание 9\n",
    "from string import ascii_lowercase\n",
    "\n",
    "d = {'e': 3, 'v': 1, 'g': 1, 'n': 1, '_': 1, 'o': 1}\n",
    "\n",
    "print(len([el for el in d.keys() if el in ascii_lowercase]))"
   ]
  },
  {
   "cell_type": "code",
   "execution_count": 27,
   "id": "169cc3f5-ea6c-4345-89ed-0d82c02b7d3f",
   "metadata": {},
   "outputs": [
    {
     "name": "stdout",
     "output_type": "stream",
     "text": [
      "910\n"
     ]
    }
   ],
   "source": [
    "# Задание 10\n",
    "d4 = {1: 10, 2: 20, 3: 30, 4: 40, 5: 50, 6: 60}\n",
    "\n",
    "print(sum([k*v for k, v in d4.items()]))"
   ]
  },
  {
   "cell_type": "code",
   "execution_count": 29,
   "id": "369cc728-14b3-483f-9960-0102a8571be1",
   "metadata": {},
   "outputs": [
    {
     "name": "stdout",
     "output_type": "stream",
     "text": [
      "{'h': 23, 'i': 24, 'j': 25, 'k': 26, 'l': 27}\n"
     ]
    }
   ],
   "source": [
    "# Задание 11\n",
    "d6 = {'e': 20, 'f': 21, 'g': 22, 'h': 23, 'i': 24, 'j': 25, 'k': 26, 'l': 27}\n",
    "d5 = {'a': 3, 'b': 4, 'c': 5, 'd': 6, 'e': 7, 'f': 8, 'g': 9}\n",
    "\n",
    "d7 = {k: v for k, v in d6.items() if k not in d5.keys()}\n",
    "print(d7)"
   ]
  },
  {
   "cell_type": "code",
   "execution_count": 30,
   "id": "46faaea9-a5e8-4249-ac5a-22c8e257c078",
   "metadata": {},
   "outputs": [
    {
     "name": "stdout",
     "output_type": "stream",
     "text": [
      "{'a': 3, 'b': 4, 'c': 5, 'd': 6, 'e': 7, 'f': 8, 'g': 9, 'h': 23, 'i': 24, 'j': 25, 'k': 26, 'l': 27}\n"
     ]
    }
   ],
   "source": [
    "# Задание 12\n",
    "d5 = {'a': 3, 'b': 4, 'c': 5, 'd': 6, 'e': 7, 'f': 8, 'g': 9}\n",
    "d6 = {'e': 20, 'f': 21, 'g': 22, 'h': 23, 'i': 24, 'j': 25, 'k': 26, 'l': 27}\n",
    "\n",
    "d8 = d5 | {k: v for k, v in d6.items() if k not in d5.keys()}\n",
    "print(d8)"
   ]
  },
  {
   "cell_type": "code",
   "execution_count": null,
   "id": "4c586aa5-23f5-4c1e-a920-30852f3d456e",
   "metadata": {},
   "outputs": [],
   "source": []
  }
 ],
 "metadata": {
  "kernelspec": {
   "display_name": "Python 3 (ipykernel)",
   "language": "python",
   "name": "python3"
  },
  "language_info": {
   "codemirror_mode": {
    "name": "ipython",
    "version": 3
   },
   "file_extension": ".py",
   "mimetype": "text/x-python",
   "name": "python",
   "nbconvert_exporter": "python",
   "pygments_lexer": "ipython3",
   "version": "3.11.4"
  }
 },
 "nbformat": 4,
 "nbformat_minor": 5
}
