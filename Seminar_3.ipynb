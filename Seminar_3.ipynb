{
 "cells": [
  {
   "cell_type": "code",
   "execution_count": null,
   "metadata": {},
   "outputs": [],
   "source": [
    "# Задание 1\n",
    "s1 = input('Введите первую строку:')\n",
    "a = int(input('Введите целое число:'))\n",
    "s2 = input('Введите вторую строку:')\n",
    "if s1 and not a - 5 and not s2:\n",
    "    print('Правильный ответ')\n",
    "else:\n",
    "    print('Ответ неправильный, попробуйте еще раз.')"
   ]
  },
  {
   "cell_type": "code",
   "execution_count": null,
   "metadata": {},
   "outputs": [],
   "source": [
    "# Задание 1.2\n",
    "values = [(True, True), (True, False), (False, True), (False, False)]\n",
    "for a, b in values:\n",
    "    res1 = not (a or b) == (not a and not b)\n",
    "    res2 = not (a and b) == (not a or not b)\n",
    "    print(f\"a = {a}, b = {b}, res1 = {res1}, res2 = {res2}\")"
   ]
  },
  {
   "cell_type": "code",
   "execution_count": null,
   "metadata": {},
   "outputs": [],
   "source": [
    "# Задание 2\n",
    "x_values = [-5, -4, -3, -2, -1, 0, 1, 2, 3, 4, 5, 6]\n",
    "for x in x_values:\n",
    "    result = x**2 > 6-x > x\n",
    "    print(f\"x = {x}: {result}\")\n"
   ]
  },
  {
   "cell_type": "code",
   "execution_count": null,
   "metadata": {},
   "outputs": [],
   "source": [
    "# Задание 3\n",
    "a, b, c = map(int, input(\"Введите значения a, b, c через пробел: \").split())\n",
    "result = 0 <= a <= c and 0 <= b < c and b == 2 and 0 <= c < 5\n",
    "print(result)"
   ]
  },
  {
   "cell_type": "code",
   "execution_count": null,
   "metadata": {},
   "outputs": [],
   "source": [
    "# Задание 3.2\n",
    "str1 = input(\"Введите первую строку: \")\n",
    "str2 = input(\"Введите вторую строку: \")\n",
    "print(len(str1) > len(str2) and str1 < str2)"
   ]
  },
  {
   "cell_type": "code",
   "execution_count": null,
   "metadata": {},
   "outputs": [],
   "source": [
    "# Задание 4\n",
    "strings = ['string', 'String', 'strinG', 'stringlong', ' string', 'string ', '_string']\n",
    "strings_sorted = sorted(strings)\n",
    "result = strings_sorted == [' string', '_string', 'String', 'strinG', 'string', 'string ', 'stringlong']\n",
    "print(result)"
   ]
  },
  {
   "cell_type": "code",
   "execution_count": null,
   "metadata": {},
   "outputs": [],
   "source": [
    "# Задание 5\n",
    "input_string = input(\"Введите строку: \")\n",
    "if \"!!!\" in input_string and \"???\" in input_string:\n",
    "    pass\n",
    "elif input_string.startswith(\"!!!\"):\n",
    "    print(\"Nota bene:\", input_string.replace(\"!!!\", \"\"))\n",
    "elif \"!!!\" in input_string:\n",
    "    print(\"exclaim\")\n",
    "elif \"???\" in input_string:\n",
    "    print(\"question\")\n",
    "else:\n",
    "    print(\"random\")"
   ]
  },
  {
   "cell_type": "code",
   "execution_count": null,
   "metadata": {},
   "outputs": [],
   "source": [
    "# Задание 6\n",
    "if len(s1) > 5:\n",
    "    if s1 and not a - 5 and not s2:\n",
    "        print('Правильный ответ')\n",
    "    else:\n",
    "        print('Ответ неправильный, попробуйте еще раз.')\n",
    "elif len(s1) % 2:\n",
    "    print(f\"{s1}-{s1}-{s1}\")"
   ]
  },
  {
   "cell_type": "code",
   "execution_count": null,
   "metadata": {},
   "outputs": [],
   "source": [
    "# Задание 7\n",
    "x = \"banana monkey\"\n",
    "y = \"orangutan\"\n",
    "friend = x if \"banana\" in x else y\n",
    "print(friend)"
   ]
  }
 ],
 "metadata": {
  "language_info": {
   "name": "python"
  }
 },
 "nbformat": 4,
 "nbformat_minor": 2
}
