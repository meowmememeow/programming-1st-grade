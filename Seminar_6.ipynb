{
 "cells": [
  {
   "cell_type": "code",
   "execution_count": null,
   "metadata": {},
   "outputs": [],
   "source": [
    "# Задание 1\n",
    "list1 = [31, 24, 17]\n",
    "list2 = list1.copy()\n",
    "list3 = list(range(31, 16, -7))\n",
    "list_combined = [list1, list2, list3]\n",
    "print(list1, list2, list3, list_combined)"
   ]
  },
  {
   "cell_type": "code",
   "execution_count": null,
   "metadata": {},
   "outputs": [],
   "source": [
    "# Задание 2.1\n",
    "user_input = input(\"Введите строку: \")\n",
    "list_chars = list(user_input)\n",
    "print(list_chars)"
   ]
  },
  {
   "cell_type": "code",
   "execution_count": null,
   "metadata": {},
   "outputs": [],
   "source": [
    "# Задание 2.2\n",
    "list_words = user_input.split()\n",
    "print(list_words)"
   ]
  },
  {
   "cell_type": "code",
   "execution_count": null,
   "metadata": {},
   "outputs": [],
   "source": [
    "# Задание 2.3\n",
    "list_digits = [char for char in user_input if char.isdigit()]\n",
    "print(list_digits)"
   ]
  },
  {
   "cell_type": "code",
   "execution_count": null,
   "metadata": {},
   "outputs": [],
   "source": [
    "# Задание 3\n",
    "lst = ['input', 'string', 'repeat', 3]\n",
    "if lst[-2] == 'repeat' and isinstance(lst[-1], int):\n",
    "    lst = lst[:-2] * lst[-1] + lst[-2:]\n",
    "print(lst)"
   ]
  },
  {
   "cell_type": "code",
   "execution_count": null,
   "metadata": {},
   "outputs": [],
   "source": [
    "# Задание 4\n",
    "s1 = \"test\"\n",
    "s2 = \"apple\"\n",
    "order_string = \"идет ПОСЛЕ\" if s1 > s2 else \"идет ДО\"\n",
    "output = input(\"Введите 'lengths' или 'order': \")\n",
    "if output == 'lengths':\n",
    "    print(f\"Длины строк: {len(s1)} и {len(s2)}\")\n",
    "elif output == 'order':\n",
    "    print(f\"Строка '{s1}' {order_string} строки '{s2}'\")"
   ]
  },
  {
   "cell_type": "code",
   "execution_count": null,
   "metadata": {},
   "outputs": [],
   "source": [
    "# Задание 5.1\n",
    "max_val = int(input(\"Введите значение max_val: \"))\n",
    "repeat = int(input(\"Введите значение repeat: \"))\n",
    "list_5_1 = [i for i in range(1, max_val+1)] * repeat\n",
    "print(list_5_1)"
   ]
  },
  {
   "cell_type": "code",
   "execution_count": null,
   "metadata": {},
   "outputs": [],
   "source": [
    "# Задание 5.2\n",
    "max_val = 10  # задано условием\n",
    "list_original = [i for i in range(1, max_val+1)] * repeat\n",
    "list_copy = list_original.copy()\n",
    "middle_cut = int(0.8 * len(list_copy))\n",
    "start = middle_cut // 2\n",
    "end = len(list_copy) - (middle_cut - start)\n",
    "list_copy = list_copy[:start] + list_copy[end:]\n",
    "remaining_elements = [i for i in list_original if i not in list_copy]\n",
    "multiplied_elements = [i*10 for i in remaining_elements]\n",
    "print(list_copy)\n",
    "print(multiplied_elements)"
   ]
  },
  {
   "cell_type": "code",
   "execution_count": null,
   "metadata": {},
   "outputs": [],
   "source": [
    "# Задание 6\n",
    "string_6 = \"test_Stringss\"\n",
    "list_6 = []\n",
    "for i in range(len(string_6)):\n",
    "    if string_6[i].lower() == 's' and i != 0 and i != len(string_6)-1:\n",
    "        list_6.append(string_6[i-1]*2 + string_6[i+1])\n",
    "    else:\n",
    "        list_6.append(string_6[i])\n",
    "print(list_6)"
   ]
  },
  {
   "cell_type": "code",
   "execution_count": null,
   "metadata": {},
   "outputs": [],
   "source": [
    "# Задание 7\n",
    "import math\n",
    "\n",
    "length = int(input(\"Введите длину списка: \"))\n",
    "list_7 = []\n",
    "for _ in range(length):\n",
    "    item = input(\"Введите элемент: \")\n",
    "    if item.isdigit() or item.replace('.', '', 1).isdigit():\n",
    "        list_7.append(math.ceil(float(item)))\n",
    "    elif item.lower() == \"true\":\n",
    "        list_7.append(True)\n",
    "    elif item.lower() == \"false\":\n",
    "        list_7.append(False)\n",
    "    else:\n",
    "        list_7.append(item)\n",
    "print(list_7)"
   ]
  },
  {
   "cell_type": "code",
   "execution_count": null,
   "metadata": {},
   "outputs": [],
   "source": [
    "# Задание 8\n",
    "string1 = \"один два три\"\n",
    "string2 = \"альфа бетта гамма\"\n",
    "words1 = string1.split()\n",
    "words2 = string2.split()\n",
    "result_list = []\n",
    "for w1, w2 in zip(words1, words2):\n",
    "    result_list.append(w1)\n",
    "    result_list.append(w2)\n",
    "result = ' '.join(result_list)\n",
    "print(result)"
   ]
  },
  {
   "cell_type": "code",
   "execution_count": null,
   "metadata": {},
   "outputs": [],
   "source": [
    "# Задание 9\n",
    "string1 = \"один два три\"\n",
    "string2 = \"альфа бетта гамма\"\n",
    "words1 = string1.split()\n",
    "words2 = string2.split()\n",
    "result_list = []\n",
    "\n",
    "# Использование функции zip\n",
    "for w1, w2 in zip(words1, words2):\n",
    "    result_list.extend([w1, w2])\n",
    "\n",
    "# Добавляем оставшиеся слова, если одна из строк длиннее\n",
    "if len(words1) > len(words2):\n",
    "    result_list.extend(words1[len(words2):])\n",
    "elif len(words2) > len(words1):\n",
    "    result_list.extend(words2[len(words1):])\n",
    "\n",
    "result = ' '.join(result_list)\n",
    "print(result)"
   ]
  },
  {
   "cell_type": "code",
   "execution_count": null,
   "metadata": {},
   "outputs": [],
   "source": [
    "# Задание 10\n",
    "string_10 = input(\"Введите строку: \")\n",
    "shift = int(input(\"Введите число для циклического сдвига: \"))\n",
    "words_10 = string_10.split()\n",
    "shifted_words = words_10[-shift:] + words_10[:-shift]\n",
    "shifted_string = ' '.join(shifted_words)\n",
    "print(shifted_string)"
   ]
  },
  {
   "cell_type": "code",
   "execution_count": null,
   "metadata": {},
   "outputs": [],
   "source": [
    "# Задание 11\n",
    "def get_prime_factors(n):\n",
    "    i = 2\n",
    "    factors = []\n",
    "    while i * i <= n:\n",
    "        if n % i:\n",
    "            i += 1\n",
    "        else:\n",
    "            n //= i\n",
    "            factors.append(i)\n",
    "    if n > 1:\n",
    "        factors.append(n)\n",
    "    return factors\n",
    "\n",
    "lst = [3, 6, 7, 12]\n",
    "new_lst = []\n",
    "\n",
    "for num in lst:\n",
    "    if num in [2, 3, 5, 7, 11, 13, 17, 19]:\n",
    "        new_lst.append(num)\n",
    "    else:\n",
    "        new_lst.extend(get_prime_factors(num))\n",
    "\n",
    "print(new_lst)"
   ]
  },
  {
   "cell_type": "code",
   "execution_count": null,
   "metadata": {},
   "outputs": [],
   "source": [
    "# Задание 12\n",
    "lst = [3, 1, 7, 4, 5, 5, 8]\n",
    "unique_vals = {x:lst.count(x) for x in lst}\n",
    "val = [k for k,v in unique_vals.items() if v==1][-1]\n",
    "\n",
    "print(val)"
   ]
  },
  {
   "cell_type": "code",
   "execution_count": null,
   "metadata": {},
   "outputs": [],
   "source": [
    "# Задание 14\n",
    "lst_nums = [0, 1, 2, 1, 3, 4, 1, 5]\n",
    "index_second_last_one = len(lst_nums) - 1 - lst_nums[::-1].index(1) - lst_nums[::-1][lst_nums[::-1].index(1)+1:].index(1)\n",
    "print(index_second_last_one)"
   ]
  },
  {
   "cell_type": "code",
   "execution_count": null,
   "metadata": {},
   "outputs": [],
   "source": [
    "# Задание 15\n",
    "def matrix_multiply(A, B):\n",
    "    result = [[0 for _ in range(len(B[0]))] for _ in range(len(A))]\n",
    "    for i in range(len(A)):\n",
    "        for j in range(len(B[0])):\n",
    "            for k in range(len(B)):\n",
    "                result[i][j] += A[i][k] * B[k][j]\n",
    "    return result\n",
    "\n",
    "matrix = [[1,2], [3,4]]\n",
    "identity_matrix = [[1,0], [0,1]]\n",
    "print(matrix_multiply(matrix, identity_matrix))"
   ]
  },
  {
   "cell_type": "code",
   "execution_count": null,
   "metadata": {},
   "outputs": [],
   "source": [
    "# Задание 16\n",
    "import copy\n",
    "original_matrix = [[1, 2], [3, 4]]\n",
    "copied_matrix = copy.deepcopy(original_matrix)"
   ]
  },
  {
   "cell_type": "code",
   "execution_count": null,
   "metadata": {},
   "outputs": [],
   "source": [
    "# Задание 17\n",
    "string = 'дыня абрикос яблоко арбуз'\n",
    "sorted_string = ' '.join(sorted(string.split()))\n",
    "print(sorted_string)"
   ]
  },
  {
   "cell_type": "code",
   "execution_count": null,
   "metadata": {},
   "outputs": [],
   "source": [
    "# Задание 18\n",
    "lsls = [[1,2,3],['a', 'b'], [30, 40, 50, 60]]\n",
    "min_length = min([len(l) for l in lsls])\n",
    "result = []\n",
    "leftovers = []\n",
    "\n",
    "for i in range(min_length):\n",
    "    for l in lsls:\n",
    "        result.append(l[i])\n",
    "\n",
    "for l in lsls:\n",
    "    leftovers.extend(l[min_length:])\n",
    "\n",
    "print(result, leftovers)"
   ]
  }
 ],
 "metadata": {
  "language_info": {
   "name": "python"
  }
 },
 "nbformat": 4,
 "nbformat_minor": 2
}
