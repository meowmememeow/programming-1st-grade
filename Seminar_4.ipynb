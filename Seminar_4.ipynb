{
 "cells": [
  {
   "cell_type": "code",
   "execution_count": null,
   "metadata": {},
   "outputs": [],
   "source": [
    "# Задание 1\n",
    "str1 = \"apple\"\n",
    "str2 = \"pineapple\"\n",
    "common_chars = \"\"\n",
    "for char in str1:\n",
    "    if char in str2 and char not in common_chars:\n",
    "        common_chars += char\n",
    "print(common_chars)"
   ]
  },
  {
   "cell_type": "code",
   "execution_count": null,
   "metadata": {},
   "outputs": [],
   "source": [
    "# Задание 2\n",
    "n = 7\n",
    "result = 1\n",
    "while n >= 1:\n",
    "    result *= n\n",
    "    n -= 2\n",
    "print(result)"
   ]
  },
  {
   "cell_type": "code",
   "execution_count": null,
   "metadata": {},
   "outputs": [],
   "source": [
    "# Задание 3\n",
    "n = 7\n",
    "result = 1\n",
    "for i in range(n, 0, -2):\n",
    "    result *= i\n",
    "print(result)"
   ]
  },
  {
   "cell_type": "code",
   "execution_count": null,
   "metadata": {},
   "outputs": [],
   "source": [
    "# Задание 4\n",
    "a, b = 2, 15\n",
    "for num in range(a, b + 1):\n",
    "    for i in range(2, int(num ** 0.5) + 1):\n",
    "        if num % i == 0:\n",
    "            break\n",
    "    else:\n",
    "        print(num)"
   ]
  },
  {
   "cell_type": "code",
   "execution_count": null,
   "metadata": {},
   "outputs": [],
   "source": [
    "# Задание 5\n",
    "while True:\n",
    "    user_input = input(\"Enter a string: \")\n",
    "    if user_input == \"STOP\":\n",
    "        print(\"Program interrupted by user\")\n",
    "        break\n",
    "    elif user_input == \"\":\n",
    "        continue\n",
    "    elif user_input < 'a':\n",
    "        print(\"Too early in the dictionary. Try again!\")\n",
    "    else:\n",
    "        print(f\"{user_input:_^30}\")\n",
    "        break"
   ]
  },
  {
   "cell_type": "code",
   "execution_count": null,
   "metadata": {},
   "outputs": [],
   "source": [
    "# Задание 6\n",
    "string = \"Hello world!\"\n",
    "result = \"\"\n",
    "for idx, char in enumerate(string, 1):\n",
    "    if len(string) % idx == 0:\n",
    "        result += char\n",
    "print(result)"
   ]
  },
  {
   "cell_type": "code",
   "execution_count": null,
   "metadata": {},
   "outputs": [],
   "source": [
    "# Задание 7\n",
    "str1 = \"Hello world!\"\n",
    "str2 = 'HERD'\n",
    "str2_lower = str2.lower()\n",
    "for idx, char in enumerate(str1, 1):\n",
    "    if char.lower() in str2_lower:\n",
    "        modified_str2 = str2_lower.replace(char.lower(), char.upper(), 1)\n",
    "        print(f\"{idx} символ встречается в строке поиска: {modified_str2}\")"
   ]
  }
 ],
 "metadata": {
  "language_info": {
   "name": "python"
  }
 },
 "nbformat": 4,
 "nbformat_minor": 2
}
