{
 "cells": [
  {
   "cell_type": "code",
   "execution_count": null,
   "metadata": {},
   "outputs": [],
   "source": [
    "import re;"
   ]
  },
  {
   "cell_type": "code",
   "execution_count": null,
   "metadata": {},
   "outputs": [],
   "source": [
    "# Задание 1\n",
    "s = 'aaa--bbb==ccc__ddd'\n",
    "result1 = re.split(r'[-=_]+', s)\n",
    "print(result1)"
   ]
  },
  {
   "cell_type": "code",
   "execution_count": null,
   "metadata": {},
   "outputs": [],
   "source": [
    "# Задание 2\n",
    "s2 = 'Yesterday, All my troubles seemed so far away'\n",
    "result2 = re.match(r'\\b\\w+\\b', s2).group()\n",
    "print(result2)"
   ]
  },
  {
   "cell_type": "code",
   "execution_count": null,
   "metadata": {},
   "outputs": [],
   "source": [
    "# Задание 3\n",
    "result3 = re.search(r'\\b\\w+\\b$', s2).group()\n",
    "print(result3)"
   ]
  },
  {
   "cell_type": "code",
   "execution_count": null,
   "metadata": {},
   "outputs": [],
   "source": [
    "# Задание 4\n",
    "s4 = 'Apple orange banana. Umbrella, elephant. Ice cream.'\n",
    "result4 = re.findall(r'\\b[aeiouAEIOU]\\w*\\b', s4)\n",
    "print(result4)\n"
   ]
  },
  {
   "cell_type": "code",
   "execution_count": null,
   "metadata": {},
   "outputs": [],
   "source": [
    "# Задание 5\n",
    "s5 = '''Apple orange banana.\n",
    "Umbrella, elephant.\n",
    "Ice cream.'''\n",
    "result5 = [match.group() for match in re.finditer(r'^\\b\\w+\\b', s5, re.MULTILINE)]\n",
    "print(result5)"
   ]
  },
  {
   "cell_type": "code",
   "execution_count": null,
   "metadata": {},
   "outputs": [],
   "source": [
    "# Задание 7\n",
    "def is_valid_email(email):\n",
    "    return bool(re.match(r'^[\\w.-]+@[\\w.-]+\\.\\w+$', email))\n",
    "\n",
    "print(is_valid_email('test.email@example.com'))  # True\n",
    "print(is_valid_email('test.email@example'))      # False"
   ]
  },
  {
   "cell_type": "code",
   "execution_count": null,
   "metadata": {},
   "outputs": [],
   "source": [
    "# Задание 7\n",
    "s7 = 'Contact us at test.email@example.com or support.email@mywebsite.org'\n",
    "result7 = [match.split('@')[1].split('.')[0] for match in re.findall(r'[\\w.-]+@[\\w.-]+\\.\\w+', s7)]\n",
    "print(result7)"
   ]
  },
  {
   "cell_type": "code",
   "execution_count": null,
   "metadata": {},
   "outputs": [],
   "source": [
    "# Задание 8\n",
    "def is_valid_phone(phone):\n",
    "    return bool(re.match(r'^\\+7\\s?\\(?\\d{3}\\)?\\s?\\d{3}[-\\s]?\\d{2}[-\\s]?\\d{2}$', phone))\n",
    "\n",
    "print(is_valid_phone('+7(999)999-99-99'))       # True\n",
    "print(is_valid_phone('+7 (999) 999-99-99'))     # True\n",
    "print(is_valid_phone('+7 999 999-99-99'))       # True\n",
    "print(is_valid_phone('+7 999 999 99 99'))       # True\n",
    "print(is_valid_phone('+79999999999'))           # True\n",
    "print(is_valid_phone('+7 999 999 99'))          # False"
   ]
  }
 ],
 "metadata": {
  "kernelspec": {
   "display_name": "Python 3",
   "language": "python",
   "name": "python3"
  },
  "language_info": {
   "name": "python",
   "version": "3.10.12"
  }
 },
 "nbformat": 4,
 "nbformat_minor": 2
}
