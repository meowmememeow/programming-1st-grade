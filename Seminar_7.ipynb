{
 "cells": [
  {
   "cell_type": "code",
   "execution_count": null,
   "metadata": {},
   "outputs": [],
   "source": [
    "from collections import defaultdict"
   ]
  },
  {
   "cell_type": "code",
   "execution_count": null,
   "metadata": {},
   "outputs": [],
   "source": [
    "# Задание 1\n",
    "string1 = 'abcdef'\n",
    "dic1 = {char: i for i, char in enumerate(string1)}\n",
    "print(dic1)"
   ]
  },
  {
   "cell_type": "code",
   "execution_count": null,
   "metadata": {},
   "outputs": [],
   "source": [
    "# Задание 2\n",
    "l1 = ['a', 'b', 'x', 'y']\n",
    "count_elements = sum(1 for item in l1 if item in dic1)\n",
    "print(count_elements)"
   ]
  },
  {
   "cell_type": "code",
   "execution_count": null,
   "metadata": {},
   "outputs": [],
   "source": [
    "# Задание 3\n",
    "string2 = 'evgene_o'\n",
    "dic2 = defaultdict(int)\n",
    "for char in string2:\n",
    "    dic2[char] += 1\n",
    "print(dic2)"
   ]
  },
  {
   "cell_type": "code",
   "execution_count": null,
   "metadata": {},
   "outputs": [],
   "source": [
    "# Задание 4\n",
    "count_lowercase = sum(dic2[char] for char in dic2 if char.islower())\n",
    "print(count_lowercase)"
   ]
  },
  {
   "cell_type": "code",
   "execution_count": null,
   "metadata": {},
   "outputs": [],
   "source": [
    "# Задание 5\n",
    "dic3 = {'g': 4, 'h': 5}\n",
    "dic4 = {**dic1, **dic2, **dic3}\n",
    "print(dic4)"
   ]
  },
  {
   "cell_type": "code",
   "execution_count": null,
   "metadata": {},
   "outputs": [],
   "source": [
    "# Задание 6\n",
    "sum_values = sum(dic4.values())\n",
    "print(sum_values)"
   ]
  },
  {
   "cell_type": "code",
   "execution_count": null,
   "metadata": {},
   "outputs": [],
   "source": [
    "# Задание 7\n",
    "product_values = 1\n",
    "for value in dic4.values():\n",
    "    product_values *= value\n",
    "print(product_values)"
   ]
  },
  {
   "cell_type": "code",
   "execution_count": null,
   "metadata": {},
   "outputs": [],
   "source": [
    "# Задание 8\n",
    "sum_key_value_product = sum(key * value for key, value in dic4.items())\n",
    "print(sum_key_value_product)"
   ]
  },
  {
   "cell_type": "code",
   "execution_count": null,
   "metadata": {},
   "outputs": [],
   "source": [
    "# Задание 9\n",
    "dic5 = {'a': 1, 'b': 2}\n",
    "dic6 = {'a': 1, 'b': 2, 'c': 3}\n",
    "dic7 = {key: dic6[key] for key in dic6 if key not in dic5}\n",
    "print(dic7)\n"
   ]
  },
  {
   "cell_type": "code",
   "execution_count": null,
   "metadata": {},
   "outputs": [],
   "source": [
    "# Задание 10\n",
    "dic8 = {**dic5, **dic6}\n",
    "print(dic8)"
   ]
  },
  {
   "cell_type": "code",
   "execution_count": null,
   "metadata": {},
   "outputs": [],
   "source": [
    "# Задание 11\n",
    "ri1 = [3, 1, 2, 4, 3, 5]\n",
    "ri1_sorted_unique = sorted(set(ri1))\n",
    "print(ri1_sorted_unique)"
   ]
  },
  {
   "cell_type": "code",
   "execution_count": null,
   "metadata": {},
   "outputs": [],
   "source": [
    "# Задание 11.2\n",
    "list_of_lists = [[1, 2, 3], [4, 5, 6, 7], [9, 2]]\n",
    "result_list = [lst[0] for lst in list_of_lists] + [lst[-1] for lst in list_of_lists]\n",
    "print(result_list)"
   ]
  },
  {
   "cell_type": "code",
   "execution_count": null,
   "metadata": {},
   "outputs": [],
   "source": [
    "# Задание 11.3\n",
    "for char, count in list(dic2.items()):\n",
    "    if count < 5:\n",
    "        del dic2[char]\n",
    "print(dic2)"
   ]
  },
  {
   "cell_type": "code",
   "execution_count": null,
   "metadata": {},
   "outputs": [],
   "source": [
    "# Задание 4.12\n",
    "bag = []\n",
    "while True:\n",
    "    items = input(\"Введите значение или значения, разделенные запятой: \").split(',')\n",
    "    if not items[0]:\n",
    "        break\n",
    "    for item in items:\n",
    "        if item in bag:\n",
    "            print(f\"Значение {item} уже есть в мешке!\")\n",
    "        else:\n",
    "            if len(bag) >= 5:\n",
    "                removed_item = bag.pop(0)\n",
    "                print(f\"Из мешка извлечено значение: {removed_item}\")\n",
    "            bag.append(item)\n",
    "print(\"Содержимое мешка:\", bag)"
   ]
  }
 ],
 "metadata": {
  "language_info": {
   "name": "python"
  }
 },
 "nbformat": 4,
 "nbformat_minor": 2
}
